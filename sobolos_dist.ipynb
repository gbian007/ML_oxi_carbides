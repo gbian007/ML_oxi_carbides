{
 "cells": [
  {
   "cell_type": "code",
   "execution_count": 1,
   "metadata": {},
   "outputs": [
    {
     "name": "stdout",
     "output_type": "stream",
     "text": [
      "(1000, 1)\n"
     ]
    }
   ],
   "source": [
    "#%pip install sobol_seq\n",
    "import numpy as np\n",
    "import sobol_seq\n",
    "import pandas as pd\n",
    "\n",
    "# Number of rows in the database\n",
    "num_rows = 1000\n",
    "\n",
    "# Number of columns in the database\n",
    "num_cols = 11\n",
    "\n",
    "# Initialize the database with zeros\n",
    "database = np.zeros((num_rows, num_cols))\n",
    "\n",
    "# Generate Sobol sequence for the first 9 columns\n",
    "sobol_seq_cols_1_9 = sobol_seq.i4_sobol_generate(7, num_rows)\n",
    "# Scale the first 9 columns to be between 0 and 100\n",
    "sobol_seq_cols_1_9 = np.multiply(sobol_seq_cols_1_9, 100)\n",
    "# Ensure that the rows do not sum to more than 100\n",
    "for i in range(num_rows):\n",
    "    if np.sum(sobol_seq_cols_1_9[i, :]) > 100:\n",
    "        row_sum = np.sum(sobol_seq_cols_1_9[i, :])\n",
    "        sobol_seq_cols_1_9[i, :] = np.multiply(sobol_seq_cols_1_9[i, :], 100/row_sum)\n",
    "\n",
    "# Assign the first 9 columns of the database\n",
    "database[:, :7] = sobol_seq_cols_1_9\n",
    "\n",
    "# Generate Sobol sequence for column 10\n",
    "sobol_seq_col_10 = sobol_seq.i4_sobol_generate(1, num_rows)\n",
    "\n",
    "# Scale column 10 to be between 0 and 14\n",
    "sobol_seq_col_10 = np.multiply(sobol_seq_col_10, 14)\n",
    "print(sobol_seq_col_10.shape)\n",
    "# Assign column 10 to the database\n",
    "database[:, 7] = np.transpose(sobol_seq_col_10)\n",
    "\n",
    "# Generate Sobol sequence for column 11\n",
    "sobol_seq_col_11 = sobol_seq.i4_sobol_generate(1, num_rows)\n",
    "\n",
    "# Scale column 11 to be between 80 and 99.99\n",
    "sobol_seq_col_11 = np.multiply(sobol_seq_col_11, 19.99) + 80\n",
    "\n",
    "# Assign column 11 to the database\n",
    "database[:, 8] = np.transpose(sobol_seq_col_11)\n",
    "\n",
    "# Generate Sobol sequence for column 12\n",
    "sobol_seq_col_12 = sobol_seq.i4_sobol_generate(1, num_rows)\n",
    "\n",
    "# Scale column 12 to be between 800 and 2500\n",
    "sobol_seq_col_12 = np.multiply(sobol_seq_col_12, 1700) + 800\n",
    "\n",
    "# Assign column 12 to the database\n",
    "database[:, 9] = np.transpose(sobol_seq_col_12)\n",
    "\n",
    "# Generate Sobol sequence for column 13\n",
    "sobol_seq_col_13 = sobol_seq.i4_sobol_generate(1, num_rows)\n",
    "\n",
    "# Scale column 13 to be between 0 and 10000\n",
    "sobol_seq_col_13 = np.multiply(sobol_seq_col_13, 10000)\n",
    "\n",
    "# Assign column 13 to the database\n",
    "database[:, 10] = np.transpose(sobol_seq_col_13)\n",
    "\n",
    "sobols  = pd.DataFrame(database)\n",
    "sobols.style\n",
    "sobols.to_csv('sobols.csv')"
   ]
  }
 ],
 "metadata": {
  "kernelspec": {
   "display_name": "Python 3",
   "language": "python",
   "name": "python3"
  },
  "language_info": {
   "codemirror_mode": {
    "name": "ipython",
    "version": 3
   },
   "file_extension": ".py",
   "mimetype": "text/x-python",
   "name": "python",
   "nbconvert_exporter": "python",
   "pygments_lexer": "ipython3",
   "version": "3.9.7"
  },
  "orig_nbformat": 4,
  "vscode": {
   "interpreter": {
    "hash": "2c531932d4facaa71ece55c65f478befe127a561e9496039410d23859834c41d"
   }
  }
 },
 "nbformat": 4,
 "nbformat_minor": 2
}
